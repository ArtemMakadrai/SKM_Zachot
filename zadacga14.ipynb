{
  "cells": [
    {
      "cell_type": "markdown",
      "source": [
        "# Макадрай Артём. Задача 14"
      ],
      "metadata": {
        "id": "yk2vg7w0PD3m"
      }
    },
    {
      "cell_type": "markdown",
      "source": [
        "**Импортируем всё необходимое**"
      ],
      "metadata": {
        "id": "jKrCCGO7Ow6F"
      }
    },
    {
      "cell_type": "code",
      "execution_count": 23,
      "metadata": {
        "trusted": true,
        "id": "2Kii39MJOpYm"
      },
      "outputs": [],
      "source": [
        "import numpy as np\n",
        "import matplotlib.pyplot as plt\n",
        "%matplotlib inline\n",
        "from scipy import linalg\n",
        "from scipy import interpolate"
      ]
    },
    {
      "cell_type": "markdown",
      "source": [
        "**Введём начальные данные**"
      ],
      "metadata": {
        "id": "qExGGdykO61M"
      }
    },
    {
      "cell_type": "code",
      "execution_count": 24,
      "metadata": {
        "trusted": true,
        "id": "4qq1cujvOpYn"
      },
      "outputs": [],
      "source": [
        "x=[0,10,20,30,40,50,60]\n",
        "y=[0,5,20,46,70,102,153]"
      ]
    },
    {
      "cell_type": "markdown",
      "source": [
        "**Построим график на начальных данных**"
      ],
      "metadata": {
        "id": "ny_XB_WmPVQy"
      }
    },
    {
      "cell_type": "code",
      "execution_count": 25,
      "metadata": {
        "trusted": true,
        "colab": {
          "base_uri": "https://localhost:8080/",
          "height": 451
        },
        "id": "QY0lOcybOpYo",
        "outputId": "94c08a46-c173-48eb-8e40-822185a38e8e"
      },
      "outputs": [
        {
          "output_type": "execute_result",
          "data": {
            "text/plain": [
              "[<matplotlib.lines.Line2D at 0x7ff1952f5c00>]"
            ]
          },
          "metadata": {},
          "execution_count": 25
        },
        {
          "output_type": "display_data",
          "data": {
            "text/plain": [
              "<Figure size 640x480 with 1 Axes>"
            ],
            "image/png": "[encoded data removed]"
          },
          "metadata": {}
        }
      ],
      "source": [
        "plt.plot(x,y,'g')\n",
        "plt.plot(x,y,'o')"
      ]
    },
    {
      "cell_type": "markdown",
      "source": [
        "**Получаем необходимые нам коэффициенты с n=8 (Кол-во значений +1)**"
      ],
      "metadata": {
        "id": "vKY_Af8APcNF"
      }
    },
    {
      "cell_type": "code",
      "execution_count": 26,
      "metadata": {
        "trusted": true,
        "colab": {
          "base_uri": "https://localhost:8080/"
        },
        "id": "W-9tCU3vOpYo",
        "outputId": "1d2dbb34-45be-4fd1-aebc-8cde3d6a19b4"
      },
      "outputs": [
        {
          "output_type": "stream",
          "name": "stdout",
          "text": [
            "[-1.11963702e-11  8.73296986e-10  3.24866371e-08 -2.25963128e-06\n",
            " -1.58737034e-04  1.08691150e-02 -1.45213747e-01  1.04254931e+00\n",
            "  0.00000000e+00]\n",
            "Коэффициэнты\n"
          ]
        },
        {
          "output_type": "stream",
          "name": "stderr",
          "text": [
            "/usr/local/lib/python3.10/dist-packages/IPython/core/interactiveshell.py:3553: RankWarning: Polyfit may be poorly conditioned\n",
            "  exec(code_obj, self.user_global_ns, self.user_ns)\n"
          ]
        }
      ],
      "source": [
        "k=np.polyfit(x,y,8)\n",
        "print(k)\n",
        "print(\"Коэффициэнты\")"
      ]
    },
    {
      "cell_type": "markdown",
      "source": [
        "**На основе найденных выше коэффициентов найдём y(y1) от 50 значений x(xx) в диапазоне [0,60]**"
      ],
      "metadata": {
        "id": "FAfmJAY3Px3y"
      }
    },
    {
      "cell_type": "code",
      "execution_count": 27,
      "metadata": {
        "trusted": true,
        "colab": {
          "base_uri": "https://localhost:8080/"
        },
        "id": "qEA2vb0vOpYo",
        "outputId": "52f7386c-6c77-45fe-c0f7-eeacb018d4bd"
      },
      "outputs": [
        {
          "output_type": "stream",
          "name": "stdout",
          "text": [
            "[  0.           1.0784535    1.83600396   2.37866885   2.8026069\n",
            "   3.19362219   3.62679074   4.16621985   4.8649479    5.76499051\n",
            "   6.89753614   8.28329229   9.93298112  11.8479809   14.02110753\n",
            "  16.43752807  19.07579592  21.908995    24.90597803  28.03268171\n",
            "  31.25349934  34.53268905  37.83579366  41.13104589  44.39073016\n",
            "  47.59247022  50.7204095   53.76624844  56.73010148  59.62113332\n",
            "  62.45793241  65.26857692  68.09034651  70.96903056  73.95778159\n",
            "  77.1154601   80.50441484  84.18764034  88.22525093  92.67020872\n",
            "  97.56324016 102.92687394 108.75853051 115.0225913  121.64137329\n",
            " 128.48493256 135.35961794 141.99529367 148.03114768 153.        ]\n",
            "Значения тормозного пути от скорости для кусочно-линейной интерполяции\n"
          ]
        }
      ],
      "source": [
        "xx=np.linspace(min(x),max(x),50)\n",
        "y1=np.polyval(k,xx)\n",
        "print(y1)\n",
        "print(\"Значения тормозного пути от скорости для кусочно-линейной интерполяции\")"
      ]
    },
    {
      "cell_type": "markdown",
      "source": [
        "**Находим максимальное значеиние из списка xx, y1 которого не превосходит 60 и номер последнего y1, удовлетворяющего нам**"
      ],
      "metadata": {
        "id": "Wg5Uhu7XQU3B"
      }
    },
    {
      "cell_type": "code",
      "execution_count": 28,
      "metadata": {
        "trusted": true,
        "colab": {
          "base_uri": "https://localhost:8080/"
        },
        "id": "gp5_213ZOpYp",
        "outputId": "30a4ca23-66fa-46b2-f84a-aa5503c03fa9"
      },
      "outputs": [
        {
          "output_type": "stream",
          "name": "stdout",
          "text": [
            "35.51020408163265 29\n"
          ]
        }
      ],
      "source": [
        "i=0\n",
        "for x1 in xx:\n",
        "    if(y1[i]<=60):\n",
        "        x_lin = x1\n",
        "        j=i\n",
        "    i+=1\n",
        "print(x_lin,j)"
      ]
    },
    {
      "cell_type": "markdown",
      "source": [
        "**При точности в 50 точек получаем, что максимальная скорость равна *35.51020408163265* и номер 29**"
      ],
      "metadata": {
        "id": "51ZIbi_TShPm"
      }
    },
    {
      "cell_type": "markdown",
      "source": [
        "**Посмотрим изменится ли значение, если увеличить точность до 100 точек**"
      ],
      "metadata": {
        "id": "JNe6EL7dTI9k"
      }
    },
    {
      "cell_type": "code",
      "execution_count": 29,
      "metadata": {
        "trusted": true,
        "colab": {
          "base_uri": "https://localhost:8080/"
        },
        "id": "4XsTTZpYOpYp",
        "outputId": "9bae7a33-4a80-4580-bef2-9cbaa3d4743f"
      },
      "outputs": [
        {
          "output_type": "stream",
          "name": "stdout",
          "text": [
            "[  0.           0.58090768   1.06935089   1.4790494    1.82316738\n",
            "   2.11429454   2.36442876   2.58496039   2.78665827   2.97965746\n",
            "   3.17344898   3.37687138   3.59810446   3.84466489   4.12340411\n",
            "   4.44050825   4.80150033   5.21124461   5.67395312   6.19319453\n",
            "   6.77190512   7.41240199   8.11639849   8.88502176   9.71883244\n",
            "  10.61784638  11.58155848  12.60896839  13.69860819  14.8485718\n",
            "  16.05654623  17.31984433  18.63543921  20.          21.40992896\n",
            "  22.86139971  24.35039662  25.87275494  27.42420185  29.00039796\n",
            "  30.59697935  32.20959976  33.83397289  35.46591459  37.10138467\n",
            "  38.73652824  40.36771619  41.99158481  43.6050741   45.20546469\n",
            "  46.790413    48.35798448  49.90668459  51.43548732  52.94386082\n",
            "  54.43179011  55.89979623  57.34895188  58.78089293  60.19782565\n",
            "  61.60252932  62.99835375  64.38921157  65.77956475  67.17440501\n",
            "  68.57922791  70.          71.44311884  72.91536536  74.42384823\n",
            "  75.97593979  77.57920314  79.24130991  80.96994839  82.77272138\n",
            "  84.65703352  86.62996747  88.69814851  90.86759721  93.14356944\n",
            "  95.53038343  98.03123329 100.64798851 103.38097881 106.22876403\n",
            " 109.18788826 112.2526179  115.41466292 118.66288086 121.98296297\n",
            " 125.35710189 128.76364033 132.17670008 135.56579089 138.89539838\n",
            " 142.1245506  145.20636247 148.08755749 150.7079661  153.        ]\n",
            "Значения тормозного пути от скорости для кусочно-линейной интерполяции\n"
          ]
        }
      ],
      "source": [
        "xx=np.linspace(min(x),max(x),100)\n",
        "y1=np.polyval(k,xx)\n",
        "print(y1)\n",
        "print(\"Значения тормозного пути от скорости для кусочно-линейной интерполяции\")"
      ]
    },
    {
      "cell_type": "code",
      "execution_count": 31,
      "metadata": {
        "trusted": true,
        "colab": {
          "base_uri": "https://localhost:8080/"
        },
        "id": "Ai86mhHZOpYp",
        "outputId": "9a488460-7eb6-4460-950b-f9ac5b400cbc"
      },
      "outputs": [
        {
          "output_type": "stream",
          "name": "stdout",
          "text": [
            "35.151515151515156 58\n"
          ]
        }
      ],
      "source": [
        "i=0\n",
        "for x1 in xx:\n",
        "    if(y1[i]<=60):\n",
        "        x_lin=x1\n",
        "        j=i\n",
        "    i+=1\n",
        "print(x_lin,j)"
      ]
    },
    {
      "cell_type": "markdown",
      "source": [
        "**При увеличении точности результат изменился и стал *35.151515151515156***"
      ],
      "metadata": {
        "id": "_QCjmf6jTVqT"
      }
    },
    {
      "cell_type": "markdown",
      "source": [
        "**Построим график**"
      ],
      "metadata": {
        "id": "LgVPewwkVGzF"
      }
    },
    {
      "cell_type": "code",
      "execution_count": 32,
      "metadata": {
        "trusted": true,
        "colab": {
          "base_uri": "https://localhost:8080/",
          "height": 451
        },
        "id": "qvGBCA9rOpYp",
        "outputId": "0fb8c9b8-86a8-4400-af1f-15bb5d7c4fb9"
      },
      "outputs": [
        {
          "output_type": "execute_result",
          "data": {
            "text/plain": [
              "[<matplotlib.lines.Line2D at 0x7ff19517d750>]"
            ]
          },
          "metadata": {},
          "execution_count": 32
        },
        {
          "output_type": "display_data",
          "data": {
            "text/plain": [
              "<Figure size 640x480 with 1 Axes>"
            ],
            "image/png": "[encoded data removed]"
          },
          "metadata": {}
        }
      ],
      "source": [
        "plt.plot(xx,y1,'r')\n",
        "plt.plot(x,y,'o')"
      ]
    },
    {
      "cell_type": "markdown",
      "source": [
        "**В итоге, с помощью кусочно-линейного интерполянта мы получили значение 35.151515151515156 с точностью в 100 точек и 35.51020408163265 с точностью в 50 точек**"
      ],
      "metadata": {
        "id": "lwE-Pz6CWAbH"
      }
    },
    {
      "cell_type": "markdown",
      "source": [
        "**Теперь приступим к решению задачи методом кучно-кубического интерполянта**"
      ],
      "metadata": {
        "id": "swQ7q8ZIWrgS"
      }
    },
    {
      "cell_type": "markdown",
      "source": [
        "**Найдём значения y2 с точностью в 50 точек**"
      ],
      "metadata": {
        "id": "wibvkuocXF8l"
      }
    },
    {
      "cell_type": "code",
      "execution_count": 54,
      "metadata": {
        "trusted": true,
        "colab": {
          "base_uri": "https://localhost:8080/"
        },
        "id": "Hhr4rvkPOpYp",
        "outputId": "ac6f563d-e23f-4b9e-f2f5-c4ab11fbf621"
      },
      "outputs": [
        {
          "output_type": "stream",
          "name": "stdout",
          "text": [
            "[0.00000000e+00 1.07863220e-01 4.13093184e-01 8.88150346e-01\n",
            " 1.50549516e+00 2.23758808e+00 3.05688956e+00 3.93586006e+00\n",
            " 4.84696003e+00 5.87589500e+00 7.19747600e+00 8.77799589e+00\n",
            " 1.05791680e+01 1.25627056e+01 1.46903221e+01 1.69237308e+01\n",
            " 1.92246449e+01 2.16485509e+01 2.44387711e+01 2.75313763e+01\n",
            " 3.08380682e+01 3.42705482e+01 3.77405179e+01 4.11596786e+01\n",
            " 4.44397319e+01 4.75091216e+01 5.04312440e+01 5.32654917e+01\n",
            " 5.60602082e+01 5.88637375e+01 6.17244231e+01 6.46906087e+01\n",
            " 6.78106382e+01 7.11227488e+01 7.45385667e+01 7.80493369e+01\n",
            " 8.16853953e+01 8.54770783e+01 8.94547220e+01 9.36486624e+01\n",
            " 9.80892359e+01 1.02808307e+02 1.07894201e+02 1.13367455e+02\n",
            " 1.19204113e+02 1.25380219e+02 1.31871816e+02 1.38654950e+02\n",
            " 1.45705663e+02 1.53000000e+02]\n"
          ]
        }
      ],
      "source": [
        "pchip = interpolate.pchip(x,y)\n",
        "xx=np.linspace(min(x),max(x),50)\n",
        "y2=pchip(xx)\n",
        "print(y2)"
      ]
    },
    {
      "cell_type": "code",
      "execution_count": 55,
      "metadata": {
        "trusted": true,
        "colab": {
          "base_uri": "https://localhost:8080/"
        },
        "id": "oJqHPVfAOpYq",
        "outputId": "e73ecc4f-9838-4d83-c55c-21523b523527"
      },
      "outputs": [
        {
          "output_type": "stream",
          "name": "stdout",
          "text": [
            "35.51020408163265 29\n"
          ]
        }
      ],
      "source": [
        "i=0\n",
        "for x2 in xx:\n",
        "    if(y2[i]<=60):\n",
        "        x_cub=x2\n",
        "        j=i\n",
        "    i+=1\n",
        "print(x_cub,j)"
      ]
    },
    {
      "cell_type": "markdown",
      "source": [
        "**При точности в 50 точек получаем такое же значение, как и в кусочно-линейном методе при точности в 50 точек (*35.51020408163265*) и y2 под номером 29**"
      ],
      "metadata": {
        "id": "g37UIYuvYIGm"
      }
    },
    {
      "cell_type": "markdown",
      "source": [
        "**Теперь увеличим точность до 100 точек**"
      ],
      "metadata": {
        "id": "Xt0vbfkgYZfD"
      }
    },
    {
      "cell_type": "code",
      "source": [
        "xx=np.linspace(min(x),max(x),100)\n",
        "y2=pchip(xx)\n",
        "print(y2)"
      ],
      "metadata": {
        "colab": {
          "base_uri": "https://localhost:8080/"
        },
        "id": "jX7aOsO4Yd6t",
        "outputId": "0a4019a2-12a9-49e4-9ee6-f71a3cfc0008"
      },
      "execution_count": 57,
      "outputs": [
        {
          "output_type": "stream",
          "name": "stdout",
          "text": [
            "[0.00000000e+00 2.69916799e-02 1.05740602e-01 2.32907588e-01\n",
            " 4.05153463e-01 6.19139049e-01 8.71525169e-01 1.15897265e+00\n",
            " 1.47814230e+00 1.82569497e+00 2.19829145e+00 2.59259259e+00\n",
            " 3.00525920e+00 3.43295211e+00 3.87233214e+00 4.32006011e+00\n",
            " 4.77279684e+00 5.23725463e+00 5.76991442e+00 6.37623972e+00\n",
            " 7.05158825e+00 7.79131773e+00 8.59078591e+00 9.44535050e+00\n",
            " 1.03503692e+01 1.13011999e+01 1.22932001e+01 1.33217277e+01\n",
            " 1.43821403e+01 1.54697957e+01 1.65800517e+01 1.77082659e+01\n",
            " 1.88497961e+01 2.00000000e+01 2.12062731e+01 2.25119684e+01\n",
            " 2.39063796e+01 2.53788004e+01 2.69185248e+01 2.85148463e+01\n",
            " 3.01570590e+01 3.18344564e+01 3.35363325e+01 3.52519809e+01\n",
            " 3.69706956e+01 3.86817702e+01 4.03744985e+01 4.20381744e+01\n",
            " 4.36620916e+01 4.52355439e+01 4.67515743e+01 4.82281850e+01\n",
            " 4.96742967e+01 5.10957709e+01 5.24984695e+01 5.38882540e+01\n",
            " 5.52709861e+01 5.66525276e+01 5.80387402e+01 5.94354854e+01\n",
            " 6.08486251e+01 6.22840208e+01 6.37475344e+01 6.52450274e+01\n",
            " 6.67823615e+01 6.83653985e+01 7.00000000e+01 7.16696268e+01\n",
            " 7.33562839e+01 7.50636497e+01 7.67954024e+01 7.85552202e+01\n",
            " 8.03467816e+01 8.21737646e+01 8.40398476e+01 8.59487089e+01\n",
            " 8.79040266e+01 8.99094792e+01 9.19687448e+01 9.40855017e+01\n",
            " 9.62634282e+01 9.85062025e+01 1.00817503e+02 1.03204333e+02\n",
            " 1.05687851e+02 1.08268753e+02 1.10944133e+02 1.13711088e+02\n",
            " 1.16566711e+02 1.19508099e+02 1.22532347e+02 1.25636550e+02\n",
            " 1.28817804e+02 1.32073203e+02 1.35399844e+02 1.38794821e+02\n",
            " 1.42255230e+02 1.45778166e+02 1.49360724e+02 1.53000000e+02]\n"
          ]
        }
      ]
    },
    {
      "cell_type": "code",
      "source": [
        "from re import I\n",
        "i=0\n",
        "for x2 in xx:\n",
        "    if(y2[i]<=60):\n",
        "        x_cub=x2\n",
        "        j=i\n",
        "    i+=1\n",
        "print(x_cub,j)"
      ],
      "metadata": {
        "colab": {
          "base_uri": "https://localhost:8080/"
        },
        "id": "rgIJs5FRYkbH",
        "outputId": "65d126ed-9038-4af8-9c91-b8986eedada2"
      },
      "execution_count": 60,
      "outputs": [
        {
          "output_type": "stream",
          "name": "stdout",
          "text": [
            "35.75757575757576 59\n"
          ]
        }
      ]
    },
    {
      "cell_type": "markdown",
      "source": [
        "**При точности в 100 точек получаем результат отличающийся от кусочно-линейного метода (*35.75757575757576*)**"
      ],
      "metadata": {
        "id": "p0OEQFJmZjqS"
      }
    },
    {
      "cell_type": "markdown",
      "source": [
        "**Построим график**"
      ],
      "metadata": {
        "id": "5ru5ImRgaE0V"
      }
    },
    {
      "cell_type": "code",
      "execution_count": 61,
      "metadata": {
        "trusted": true,
        "colab": {
          "base_uri": "https://localhost:8080/",
          "height": 451
        },
        "id": "RIDn-M4aOpYq",
        "outputId": "94368871-308a-4670-9899-159132c37c0c"
      },
      "outputs": [
        {
          "output_type": "execute_result",
          "data": {
            "text/plain": [
              "[<matplotlib.lines.Line2D at 0x7ff1951ea170>]"
            ]
          },
          "metadata": {},
          "execution_count": 61
        },
        {
          "output_type": "display_data",
          "data": {
            "text/plain": [
              "<Figure size 640x480 with 1 Axes>"
            ],
            "image/png": "[encoded data removed]"
          },
          "metadata": {}
        }
      ],
      "source": [
        "plt.plot(xx,y2,'r')\n",
        "plt.plot(x,y,'o')"
      ]
    },
    {
      "cell_type": "markdown",
      "source": [
        "**На основе данных полученных, с помощью метода кусочно-линейной интерполяции и метода кусочно-кубической, получаем такой результат:**"
      ],
      "metadata": {
        "id": "bMPHMCnlabND"
      }
    },
    {
      "cell_type": "code",
      "execution_count": 62,
      "metadata": {
        "trusted": true,
        "colab": {
          "base_uri": "https://localhost:8080/"
        },
        "id": "wVR17RpNOpYq",
        "outputId": "62a6d726-26f0-47cc-d1de-81867e74ebcc"
      },
      "outputs": [
        {
          "output_type": "stream",
          "name": "stdout",
          "text": [
            "x_lin =  35.151515151515156\n",
            "x_cub =  35.75757575757576\n"
          ]
        }
      ],
      "source": [
        "print(\"x_lin = \",x_lin)\n",
        "print(\"x_cub = \",x_cub)"
      ]
    },
    {
      "cell_type": "markdown",
      "source": [
        "**3 метод реальзовать пока не смог**"
      ],
      "metadata": {
        "id": "qiWO4yqGazEw"
      }
    }
  ],
  "metadata": {
    "kernelspec": {
      "display_name": "Python 3",
      "language": "python",
      "name": "python3"
    },
    "language_info": {
      "codemirror_mode": {
        "name": "ipython",
        "version": 3
      },
      "file_extension": ".py",
      "mimetype": "text/x-python",
      "name": "python",
      "nbconvert_exporter": "python",
      "pygments_lexer": "ipython3",
      "version": "3.10.7"
    },
    "colab": {
      "provenance": []
    }
  },
  "nbformat": 4,
  "nbformat_minor": 0
}
